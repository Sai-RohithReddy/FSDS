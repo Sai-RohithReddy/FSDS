{
 "cells": [
  {
   "cell_type": "code",
   "execution_count": 2,
   "metadata": {},
   "outputs": [],
   "source": [
    "from bs4 import BeautifulSoup as bs\n",
    "from urllib.request import urlopen as uReq"
   ]
  },
  {
   "cell_type": "code",
   "execution_count": 3,
   "metadata": {},
   "outputs": [],
   "source": [
    "regions = [\"na\", \"eu\", \"nrt\", \"integ\"]\n",
    "job_id = \"2adcf15e2295477a8d9eaee5a6fc78c4\"\n",
    "digdug_url = \"https://dig-dug-{}.aka.amazon.com/stows/{}\""
   ]
  },
  {
   "cell_type": "code",
   "execution_count": 4,
   "metadata": {},
   "outputs": [],
   "source": [
    "jobs = []\n",
    "\n",
    "for region in regions:\n",
    "    jobs.append(f\"https://dig-dug-{region}.aka.amazon.com/stows/{job_id}\")"
   ]
  },
  {
   "cell_type": "code",
   "execution_count": 5,
   "metadata": {},
   "outputs": [],
   "source": [
    "uClient = uReq(jobs[0])\n",
    "jobPage = uClient.read()\n",
    "uClient.close()\n"
   ]
  },
  {
   "cell_type": "code",
   "execution_count": 6,
   "metadata": {},
   "outputs": [
    {
     "data": {
      "text/plain": [
       "b'<!DOCTYPE html>\\n<html lang=\\'en\\'>\\n<head>\\n<title>Midway Authentication Portal</title>\\n<link rel=\"stylesheet\" media=\"all\" href=\"/assets/application-09d8e16c06bd7054d8fe9b103a16280dfdaf5a7ef571484747f5d2e4534b6fd0.css\" />\\n<script src=\"/assets/application-998d75e88503fdf4078e43b01d4dfbd8244e40c3e4ef83e69d0037cb14f498bc.js\"></script>\\n<script src=\"/packs/js/client-side-metrics-91529fe0c38bfaea1984.js\"></script>\\n<meta name=\"csrf-param\" content=\"authenticity_token\" />\\n<meta name=\"csrf-token\" content=\"Kc7oacsTkY0+cxervZAlOE+Q7CIGWpYmJX1Lh4pDyN0mD1C+iuv37h6litU21q6it9MIsL8quFOmc9RhgwRfWg==\" />\\n<meta id=\"viewport\" name=\"viewport\" content=\"width=device-width, initial-scale=1\" />\\n</head>\\n<body>\\n<script src=\"/assets/login-aa32185be48fcb19ba1e262bd763b2f42b75778784446caebdb82b8c6208aa73.js\" defer=\"defer\"></script>\\n<main>\\n\\n\\n  <form id=\"fpr_form\" name=\"fpr_form\"></form>\\n  <section id=\"base-pane\">\\n    <div id=\"login-pane\">\\n      <div id=\"input-params\" data-session-status=\"{&quot;csrf_param&quot;:&quot;authenticity_token&quot;,&quot;csrf_token&quot;:&quot;oOguU9yGmzcUfuhNgKymRlbDhy1qOxGlKG54LQPIxRevKZaEnX79VDSodTML6i3croBjv9NLP9CrYOfLCo9SkA==&quot;,&quot;session_uuid&quot;:&quot;2f2eddbc7e5d5e6d475762b31a079b68&quot;,&quot;client_cert_valid&quot;:false,&quot;totp_enabled&quot;:true,&quot;display_otp_enabled&quot;:true,&quot;authenticated&quot;:false,&quot;auth_prompt&quot;:&quot;Password&quot;}\" data-js-params=\"{&quot;next&quot;:&quot;/SSO/redirect?redirect_uri=https%3A%2F%2Fdig-dug-na.aka.amazon.com%2Fstows%2F2adcf15e2295477a8d9eaee5a6fc78c4\\\\u0026client_id=https%3A%2F%2Fdig-dug-na.aka.amazon.com%3A443\\\\u0026scope=openid\\\\u0026response_type=id_token\\\\u0026nonce=b9f81817568434b9d94bace1b545a28f146b4335c1eb3e1c1554b2afd4dd3334\\\\u0026sentry_handler_version=midwaygateway\\\\u0026response_mode=query\\\\u0026state=%2Fstows%2F2adcf15e2295477a8d9eaee5a6fc78c4&quot;}\"></div>\\n      <h2>Sign in</h2>\\n      <!--This hidden header is added because many canaries look for this text to know that they are on a Midway page-->\\n      <h2 hidden>Sign in with Midway</h2>\\n      <div class=\"ta-right\">\\n        <a class=\"medium-heavy-text small-text\" href=\"https://w.amazon.com/index.php/NextGenMidway/FAQ\">Why am I here?</a>\\n      </div>\\n\\n      <form id=\"login_form\" action=\"/api/login\" accept-charset=\"UTF-8\" method=\"post\"><input name=\"utf8\" type=\"hidden\" value=\"&#x2713;\" /><input type=\"hidden\" name=\"authenticity_token\" value=\"ZHTxPpgWHi82S+uXp35AGnqQhwt3kXv5A6CjvKpyTstrtUnp2e54TBadduksOMuAgtNjmc7hVYyArjxaozXZTA==\" />\\n        <input type=\"hidden\" name=\"old_login_form\" id=\"old_login_form\" value=\"true\" />\\n        <input type=\"hidden\" name=\"next\" id=\"next\" value=\"/SSO/redirect?redirect_uri=https%3A%2F%2Fdig-dug-na.aka.amazon.com%2Fstows%2F2adcf15e2295477a8d9eaee5a6fc78c4&amp;client_id=https%3A%2F%2Fdig-dug-na.aka.amazon.com%3A443&amp;scope=openid&amp;response_type=id_token&amp;nonce=b9f81817568434b9d94bace1b545a28f146b4335c1eb3e1c1554b2afd4dd3334&amp;sentry_handler_version=midwaygateway&amp;response_mode=query&amp;state=%2Fstows%2F2adcf15e2295477a8d9eaee5a6fc78c4\" />\\n        <p>\\n          <label for=\"user_name\">Amazon username</label><br/>\\n          <input type=\"text\" name=\"user_name\" id=\"user_name\" value=\"\" placeholder=\"Enter your Amazon username\" autocomplete=\"username\" autocorrect=\"off\" autocapitalize=\"off\" spellcheck=\"false\" />\\n        </p>\\n\\n        <p>\\n        <div class=\"row\">\\n          <div class=\"cell-50\">\\n            <label for=\"password\">PIN</label>\\n          </div>\\n          <div class=\"cell-50 ta-right\">\\n            <a class=\"medium-heavy-text small-text\" href=\"https://password-v2.corp.amazon.com/selfReset\">Reset password</a>\\n          </div>\\n        </div>\\n        <input type=\"password\" name=\"password\" id=\"password\" value=\"\" placeholder=\"Enter your security key PIN\" autocomplete=\"current-password\" autocorrect=\"off\" autocapitalize=\"off\" />\\n        <p>\\n          <input type=\"submit\" name=\"commit\" value=\"Sign in\" class=\"login-button inline-button orange-button\" id=\"verify_btn\" data-disable-with=\"Sign in\" />\\n        <p id=\"error-message\" class=\"m1-red ta-center mb-0 invisible\" tabindex=\"0\">Error</p>\\n        <p id=\"forgot-password\" class=\"ta-center mb-0\" hidden>\\n          <a href=\"https://password-v2.corp.amazon.com/selfReset\">Did you forget your password?</a></p>\\n</form>    </div>\\n\\n    <div id=\"u2f-login-pane\" class=\"ta-center\" hidden>\\n      <h2>Second factor required</h2>\\n      <div class=\"row pb-1 pl-2 flex-container\">\\n        <div class=\"cell-20 hide-small\">\\n          <img height=\"128\" alt=\"Security key with lock\" src=\"/assets/yubikey-with-lock-5555a15fa7c43bd7778dbabf1c87ccd5b8cfcca373bc6d355648a054d3628d50.png\" />\\n        </div>\\n        <div class=\"cell-80 ta-left cell-100-small move-to-end-small\">\\n          <ol class=\"no-indent\">\\n            <li>Plug your security key into a USB slot on your computer</li>\\n            <li>Touch your security key</li>\\n              <li>Or, if short touch does not work press and hold for 3 seconds to activate OTP</li>\\n          </ol>\\n        </div>\\n          <div class=\"cell-80\">\\n            <p>\\n            <form action=\"/api/yubiotp/login\" method=\"post\">\\n              <input id=\"otp-field\" name=\"otp\" autocomplete=\"off\" class=\"otp-field\" autocapitalize=\"none\" style=\"width: 185px\">\\n              <input id=\"otp-submit-btn\" type=\"submit\" value=\"Submit\">\\n            </form>\\n            <p id=\"u2f-error-message\" class=\"m1-red\" hidden></p>\\n          </div>\\n      </div>\\n    </div>\\n\\n    <div id=\"redirect-pane\" class=\"ta-center\" hidden>\\n      <h2 class=\"green\"> Authentication Successful</h2>\\n      <br/>\\n      <br/>\\n      <h3 class=\"\">Now redirecting you to <span id=\"redirect-url\"></span></h3>\\n      <br/>\\n      <img alt=\"Spinning processing circle\" src=\"/assets/ajax-spinner-8ca9fe045cf585735bce86ab8ca873f396696ca879d783db9918d4c83a41e208.gif\" />\\n    </div>\\n\\n    <div id=\"loadingDiv\" class=\"ta-center invisible\">\\n      <img alt=\"Spinning processing circle\" src=\"/assets/ajax-spinner-8ca9fe045cf585735bce86ab8ca873f396696ca879d783db9918d4c83a41e208.gif\" />\\n    </div>\\n\\n  </section>\\n  \\n  <div class=\"banner-container\">\\n    <div id=\"username-mismatch-bannner\" class=\"banner-item banner-font warning-color hidden\">\\n     <img height=\"16\" class=\"icon\" src=\"/assets/warning-icon-e50eece4de2050077708614013680c4d934561e8625efe04024162e13b598c94.png\" /> The system has identified that you are sharing a device. For such instances, beginning from May 24, 2022, Midway will prompt you to log out of the device and log back in with your own credentials in order to access Midway protected websites. If this change will interrupt your daily workflow then, please cut us a ticket with a valid business reason using this  <a href=\"https://t.corp.amazon.com/create/templates/d126c643-16e9-4673-bf09-2a2b3986d7d5\">quicklink</a>.\\n    </div>\\n  </div>\\n  \\n  <footer>\\n    <p>\\n      Secured by  <a id=\"help_link\" href=\"https://w.amazon.com/index.php/NextGenMidway/FAQ\">Midway</a>. For login issues, \\n      <a href=\"https://firstaid.amazon-corp.com\">chat with IT support</a>.\\n    </p>\\n\\n    <img height=\"32\" class=\"mt-2\" alt=\"Amazon logo\" title=\"Midway is brought to you by Alex, Misha, Pratik, David, Eric, Sunitha, Matt, Stefan, Chris, Carl, Tyler, and more!\" src=\"/assets/amazon-logo-cabbd5a0efd8cbe9bbce9472937b612b286632bd561cef6462b3ed638295b80e.png\" />\\n  </footer>\\n\\n</main>\\n\\n<script src=\"/packs/js/old-ui-461da3c7efcf09ec5ab8.js\"></script>\\n</body>\\n</html>\\n'"
      ]
     },
     "execution_count": 6,
     "metadata": {},
     "output_type": "execute_result"
    }
   ],
   "source": [
    "jobPage"
   ]
  },
  {
   "cell_type": "code",
   "execution_count": 7,
   "metadata": {},
   "outputs": [
    {
     "data": {
      "text/plain": [
       "<!DOCTYPE html>\n",
       "\n",
       "<html lang=\"en\">\n",
       "<head>\n",
       "<title>Midway Authentication Portal</title>\n",
       "<link href=\"/assets/application-09d8e16c06bd7054d8fe9b103a16280dfdaf5a7ef571484747f5d2e4534b6fd0.css\" media=\"all\" rel=\"stylesheet\"/>\n",
       "<script src=\"/assets/application-998d75e88503fdf4078e43b01d4dfbd8244e40c3e4ef83e69d0037cb14f498bc.js\"></script>\n",
       "<script src=\"/packs/js/client-side-metrics-91529fe0c38bfaea1984.js\"></script>\n",
       "<meta content=\"authenticity_token\" name=\"csrf-param\"/>\n",
       "<meta content=\"Kc7oacsTkY0+cxervZAlOE+Q7CIGWpYmJX1Lh4pDyN0mD1C+iuv37h6litU21q6it9MIsL8quFOmc9RhgwRfWg==\" name=\"csrf-token\"/>\n",
       "<meta content=\"width=device-width, initial-scale=1\" id=\"viewport\" name=\"viewport\"/>\n",
       "</head>\n",
       "<body>\n",
       "<script defer=\"defer\" src=\"/assets/login-aa32185be48fcb19ba1e262bd763b2f42b75778784446caebdb82b8c6208aa73.js\"></script>\n",
       "<main>\n",
       "<form id=\"fpr_form\" name=\"fpr_form\"></form>\n",
       "<section id=\"base-pane\">\n",
       "<div id=\"login-pane\">\n",
       "<div data-js-params='{\"next\":\"/SSO/redirect?redirect_uri=https%3A%2F%2Fdig-dug-na.aka.amazon.com%2Fstows%2F2adcf15e2295477a8d9eaee5a6fc78c4\\u0026client_id=https%3A%2F%2Fdig-dug-na.aka.amazon.com%3A443\\u0026scope=openid\\u0026response_type=id_token\\u0026nonce=b9f81817568434b9d94bace1b545a28f146b4335c1eb3e1c1554b2afd4dd3334\\u0026sentry_handler_version=midwaygateway\\u0026response_mode=query\\u0026state=%2Fstows%2F2adcf15e2295477a8d9eaee5a6fc78c4\"}' data-session-status='{\"csrf_param\":\"authenticity_token\",\"csrf_token\":\"oOguU9yGmzcUfuhNgKymRlbDhy1qOxGlKG54LQPIxRevKZaEnX79VDSodTML6i3croBjv9NLP9CrYOfLCo9SkA==\",\"session_uuid\":\"2f2eddbc7e5d5e6d475762b31a079b68\",\"client_cert_valid\":false,\"totp_enabled\":true,\"display_otp_enabled\":true,\"authenticated\":false,\"auth_prompt\":\"Password\"}' id=\"input-params\"></div>\n",
       "<h2>Sign in</h2>\n",
       "<!--This hidden header is added because many canaries look for this text to know that they are on a Midway page-->\n",
       "<h2 hidden=\"\">Sign in with Midway</h2>\n",
       "<div class=\"ta-right\">\n",
       "<a class=\"medium-heavy-text small-text\" href=\"https://w.amazon.com/index.php/NextGenMidway/FAQ\">Why am I here?</a>\n",
       "</div>\n",
       "<form accept-charset=\"UTF-8\" action=\"/api/login\" id=\"login_form\" method=\"post\"><input name=\"utf8\" type=\"hidden\" value=\"✓\"/><input name=\"authenticity_token\" type=\"hidden\" value=\"ZHTxPpgWHi82S+uXp35AGnqQhwt3kXv5A6CjvKpyTstrtUnp2e54TBadduksOMuAgtNjmc7hVYyArjxaozXZTA==\"/>\n",
       "<input id=\"old_login_form\" name=\"old_login_form\" type=\"hidden\" value=\"true\"/>\n",
       "<input id=\"next\" name=\"next\" type=\"hidden\" value=\"/SSO/redirect?redirect_uri=https%3A%2F%2Fdig-dug-na.aka.amazon.com%2Fstows%2F2adcf15e2295477a8d9eaee5a6fc78c4&amp;client_id=https%3A%2F%2Fdig-dug-na.aka.amazon.com%3A443&amp;scope=openid&amp;response_type=id_token&amp;nonce=b9f81817568434b9d94bace1b545a28f146b4335c1eb3e1c1554b2afd4dd3334&amp;sentry_handler_version=midwaygateway&amp;response_mode=query&amp;state=%2Fstows%2F2adcf15e2295477a8d9eaee5a6fc78c4\"/>\n",
       "<p>\n",
       "<label for=\"user_name\">Amazon username</label><br/>\n",
       "<input autocapitalize=\"off\" autocomplete=\"username\" autocorrect=\"off\" id=\"user_name\" name=\"user_name\" placeholder=\"Enter your Amazon username\" spellcheck=\"false\" type=\"text\" value=\"\"/>\n",
       "</p>\n",
       "<p>\n",
       "<div class=\"row\">\n",
       "<div class=\"cell-50\">\n",
       "<label for=\"password\">PIN</label>\n",
       "</div>\n",
       "<div class=\"cell-50 ta-right\">\n",
       "<a class=\"medium-heavy-text small-text\" href=\"https://password-v2.corp.amazon.com/selfReset\">Reset password</a>\n",
       "</div>\n",
       "</div>\n",
       "<input autocapitalize=\"off\" autocomplete=\"current-password\" autocorrect=\"off\" id=\"password\" name=\"password\" placeholder=\"Enter your security key PIN\" type=\"password\" value=\"\"/>\n",
       "<p>\n",
       "<input class=\"login-button inline-button orange-button\" data-disable-with=\"Sign in\" id=\"verify_btn\" name=\"commit\" type=\"submit\" value=\"Sign in\"/>\n",
       "<p class=\"m1-red ta-center mb-0 invisible\" id=\"error-message\" tabindex=\"0\">Error</p>\n",
       "<p class=\"ta-center mb-0\" hidden=\"\" id=\"forgot-password\">\n",
       "<a href=\"https://password-v2.corp.amazon.com/selfReset\">Did you forget your password?</a></p>\n",
       "</p></p></form> </div>\n",
       "<div class=\"ta-center\" hidden=\"\" id=\"u2f-login-pane\">\n",
       "<h2>Second factor required</h2>\n",
       "<div class=\"row pb-1 pl-2 flex-container\">\n",
       "<div class=\"cell-20 hide-small\">\n",
       "<img alt=\"Security key with lock\" height=\"128\" src=\"/assets/yubikey-with-lock-5555a15fa7c43bd7778dbabf1c87ccd5b8cfcca373bc6d355648a054d3628d50.png\"/>\n",
       "</div>\n",
       "<div class=\"cell-80 ta-left cell-100-small move-to-end-small\">\n",
       "<ol class=\"no-indent\">\n",
       "<li>Plug your security key into a USB slot on your computer</li>\n",
       "<li>Touch your security key</li>\n",
       "<li>Or, if short touch does not work press and hold for 3 seconds to activate OTP</li>\n",
       "</ol>\n",
       "</div>\n",
       "<div class=\"cell-80\">\n",
       "<p>\n",
       "<form action=\"/api/yubiotp/login\" method=\"post\">\n",
       "<input autocapitalize=\"none\" autocomplete=\"off\" class=\"otp-field\" id=\"otp-field\" name=\"otp\" style=\"width: 185px\"/>\n",
       "<input id=\"otp-submit-btn\" type=\"submit\" value=\"Submit\"/>\n",
       "</form>\n",
       "<p class=\"m1-red\" hidden=\"\" id=\"u2f-error-message\"></p>\n",
       "</p></div>\n",
       "</div>\n",
       "</div>\n",
       "<div class=\"ta-center\" hidden=\"\" id=\"redirect-pane\">\n",
       "<h2 class=\"green\"> Authentication Successful</h2>\n",
       "<br/>\n",
       "<br/>\n",
       "<h3 class=\"\">Now redirecting you to <span id=\"redirect-url\"></span></h3>\n",
       "<br/>\n",
       "<img alt=\"Spinning processing circle\" src=\"/assets/ajax-spinner-8ca9fe045cf585735bce86ab8ca873f396696ca879d783db9918d4c83a41e208.gif\"/>\n",
       "</div>\n",
       "<div class=\"ta-center invisible\" id=\"loadingDiv\">\n",
       "<img alt=\"Spinning processing circle\" src=\"/assets/ajax-spinner-8ca9fe045cf585735bce86ab8ca873f396696ca879d783db9918d4c83a41e208.gif\"/>\n",
       "</div>\n",
       "</section>\n",
       "<div class=\"banner-container\">\n",
       "<div class=\"banner-item banner-font warning-color hidden\" id=\"username-mismatch-bannner\">\n",
       "<img class=\"icon\" height=\"16\" src=\"/assets/warning-icon-e50eece4de2050077708614013680c4d934561e8625efe04024162e13b598c94.png\"/> The system has identified that you are sharing a device. For such instances, beginning from May 24, 2022, Midway will prompt you to log out of the device and log back in with your own credentials in order to access Midway protected websites. If this change will interrupt your daily workflow then, please cut us a ticket with a valid business reason using this  <a href=\"https://t.corp.amazon.com/create/templates/d126c643-16e9-4673-bf09-2a2b3986d7d5\">quicklink</a>.\n",
       "    </div>\n",
       "</div>\n",
       "<footer>\n",
       "<p>\n",
       "      Secured by  <a href=\"https://w.amazon.com/index.php/NextGenMidway/FAQ\" id=\"help_link\">Midway</a>. For login issues, \n",
       "      <a href=\"https://firstaid.amazon-corp.com\">chat with IT support</a>.\n",
       "    </p>\n",
       "<img alt=\"Amazon logo\" class=\"mt-2\" height=\"32\" src=\"/assets/amazon-logo-cabbd5a0efd8cbe9bbce9472937b612b286632bd561cef6462b3ed638295b80e.png\" title=\"Midway is brought to you by Alex, Misha, Pratik, David, Eric, Sunitha, Matt, Stefan, Chris, Carl, Tyler, and more!\"/>\n",
       "</footer>\n",
       "</main>\n",
       "<script src=\"/packs/js/old-ui-461da3c7efcf09ec5ab8.js\"></script>\n",
       "</body>\n",
       "</html>"
      ]
     },
     "execution_count": 7,
     "metadata": {},
     "output_type": "execute_result"
    }
   ],
   "source": [
    "job_html = bs(jobPage, \"html.parser\")\n",
    "job_html"
   ]
  },
  {
   "cell_type": "code",
   "execution_count": 8,
   "metadata": {},
   "outputs": [
    {
     "data": {
      "text/plain": [
       "[]"
      ]
     },
     "execution_count": 8,
     "metadata": {},
     "output_type": "execute_result"
    }
   ],
   "source": [
    "find_job = job_html.find_all(\"div\", {\"class\": \"container\"})\n",
    "find_job"
   ]
  },
  {
   "cell_type": "code",
   "execution_count": null,
   "metadata": {},
   "outputs": [],
   "source": []
  }
 ],
 "metadata": {
  "kernelspec": {
   "display_name": "Python 3",
   "language": "python",
   "name": "python3"
  },
  "language_info": {
   "codemirror_mode": {
    "name": "ipython",
    "version": 3
   },
   "file_extension": ".py",
   "mimetype": "text/x-python",
   "name": "python",
   "nbconvert_exporter": "python",
   "pygments_lexer": "ipython3",
   "version": "3.10.1"
  },
  "orig_nbformat": 4
 },
 "nbformat": 4,
 "nbformat_minor": 2
}
